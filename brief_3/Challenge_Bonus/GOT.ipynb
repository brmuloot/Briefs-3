{
 "cells": [
  {
   "cell_type": "code",
   "execution_count": 18,
   "id": "3d431054",
   "metadata": {},
   "outputs": [
    {
     "name": "stdout",
     "output_type": "stream",
     "text": [
      "['tywin', 'tyrion']\n"
     ]
    }
   ],
   "source": [
    "dictionnaire_bien_choisi = {\n",
    "    \"mots\": {'eddard', 'catelyn', 'robb', 'sansa', 'arya', 'brandon',\n",
    "              'rickon', 'theon', 'rorbert', 'cersei', 'tywin', 'jaime',\n",
    "              'tyrion', 'shae', 'bronn', 'lancel', 'joffrey', 'sandor',\n",
    "              'varys', 'renly', 'a'}\n",
    "}\n",
    "\n",
    "def mots_lettre_position(liste, lettre, position):\n",
    "    list_mots = []\n",
    "    for mot in liste:\n",
    "        if len(mot) >= position:\n",
    "            if mot[position - 1] == lettre:\n",
    "                list_mots.append(mot)\n",
    "    return list_mots\n",
    "\n",
    "print(mots_lettre_position(dictionnaire_bien_choisi['mots'], \"y\", 2))"
   ]
  }
 ],
 "metadata": {
  "kernelspec": {
   "display_name": "Python 3 (ipykernel)",
   "language": "python",
   "name": "python3"
  },
  "language_info": {
   "codemirror_mode": {
    "name": "ipython",
    "version": 3
   },
   "file_extension": ".py",
   "mimetype": "text/x-python",
   "name": "python",
   "nbconvert_exporter": "python",
   "pygments_lexer": "ipython3",
   "version": "3.9.12"
  }
 },
 "nbformat": 4,
 "nbformat_minor": 5
}
