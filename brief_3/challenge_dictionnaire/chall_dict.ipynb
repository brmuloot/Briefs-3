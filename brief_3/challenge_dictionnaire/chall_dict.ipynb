{
 "cells": [
  {
   "cell_type": "markdown",
   "id": "317940f3",
   "metadata": {},
   "source": [
    "1 -  Créer un dictionnaire nommé ventes_commerciaux contenant les ventes suivantes :\n",
    "Marie:15; Samuel:17;  Gaston:12;  Fred:10; Mae:5;  Julie:15; Zoe:7; Claire:20; Chloe:8; Julien:14;Gael:9; Samia:15; Omar:11; Gabriel:16; Manon: 2\n"
   ]
  },
  {
   "cell_type": "code",
   "execution_count": 6,
   "id": "f16311f2",
   "metadata": {},
   "outputs": [
    {
     "data": {
      "text/plain": [
       "17"
      ]
     },
     "execution_count": 6,
     "metadata": {},
     "output_type": "execute_result"
    }
   ],
   "source": [
    "ventes_commerciaux = {\"Marie\":15, \"Samuel\":17,  \"Gaston\":12,  \"Fred\":10, \"Mae\":5,  \"Julie\":15, \"Zoe\":7, \"Claire\":20, \"Chloe\":8, \"Julien\":14, \"Gael\":9, \"Samia\":15, \"Omar\":11, \"Gabriel\":16, \"Manon\": 2}\n",
    "ventes_commerciaux[\"Samuel\"]"
   ]
  },
  {
   "cell_type": "markdown",
   "id": "a6d39dac",
   "metadata": {},
   "source": [
    "2 – Quelle est la moyenne des ventes ? \n",
    "  Astuce : utiliser la fonction ( méthode )  values () d’un dictionnaire qui retourne les valeurs stockées dans le dictionnaire "
   ]
  },
  {
   "cell_type": "code",
   "execution_count": 7,
   "id": "897a1228",
   "metadata": {},
   "outputs": [
    {
     "name": "stdout",
     "output_type": "stream",
     "text": [
      "La moyenne des valeurs du dictionnaire est de : 11.733333333333333\n"
     ]
    }
   ],
   "source": [
    "compteur = 0\n",
    "somme = 0\n",
    "\n",
    "for key in ventes_commerciaux:\n",
    "    compteur += 1\n",
    "    somme += ventes_commerciaux[key]\n",
    "\n",
    "\n",
    "print(\"La moyenne des valeurs du dictionnaire est de :\", somme/compteur)"
   ]
  },
  {
   "cell_type": "markdown",
   "id": "90dd5f4c",
   "metadata": {},
   "source": [
    "3 – Afficher le nombre total de vendeurs"
   ]
  },
  {
   "cell_type": "code",
   "execution_count": 8,
   "id": "1305927d",
   "metadata": {},
   "outputs": [
    {
     "name": "stdout",
     "output_type": "stream",
     "text": [
      "Le nombre total de vendeur est : 15\n"
     ]
    }
   ],
   "source": [
    "print(\"Le nombre total de vendeur est :\", compteur)"
   ]
  },
  {
   "cell_type": "markdown",
   "id": "43db782d",
   "metadata": {},
   "source": [
    "4 – Combien de commerciaux ont un nombre de ventes strictement supérieur à la\n",
    " moyenne ? Astuce: utiliser la fonction ( méthode)  items() d’ un dictionnaire pour récupérer les clés et les valeurs en même temps   "
   ]
  },
  {
   "cell_type": "code",
   "execution_count": 9,
   "id": "46e17a74",
   "metadata": {},
   "outputs": [
    {
     "name": "stdout",
     "output_type": "stream",
     "text": [
      "Il y a 8  commerciaux qui ont un nombre de ventes strictement supérieur à la moyenne.\n"
     ]
    }
   ],
   "source": [
    "moyenne = somme/compteur\n",
    "\n",
    "res = dict((k,v) for k, v in ventes_commerciaux.items() if v > moyenne)\n",
    "\n",
    "# k correspond à la key et v à la value. On dit donc que tant que k et v correspondent\n",
    "# aux items du dictionnaire et que si v > moyenne on stock\n",
    "\n",
    "print(\"Il y a\",len(res),\" commerciaux qui ont un nombre de ventes strictement supérieur à la moyenne.\")\n"
   ]
  },
  {
   "cell_type": "markdown",
   "id": "413114ee",
   "metadata": {},
   "source": [
    "5 – Quel est le prénom du meilleur vendeur ?  \n",
    "Astuce: utiliser la fonction ( méthode )  keys() d’ un dictionnaire pour récupérer les clés\n",
    "d’un dictionnaire "
   ]
  },
  {
   "cell_type": "code",
   "execution_count": 13,
   "id": "4c61690c",
   "metadata": {},
   "outputs": [
    {
     "name": "stdout",
     "output_type": "stream",
     "text": [
      "La meilleure vendeuse du magasin est : Claire\n"
     ]
    }
   ],
   "source": [
    "max_key = max(ventes_commerciaux, key = ventes_commerciaux.get)\n",
    "\n",
    "print(\"La meilleure vendeuse du magasin est :\",max_key)"
   ]
  },
  {
   "cell_type": "markdown",
   "id": "22a7460a",
   "metadata": {},
   "source": [
    "6 – Combien de vendeurs ont un prénom  avec strictement moins de 4 lettres?"
   ]
  },
  {
   "cell_type": "code",
   "execution_count": 72,
   "id": "26c1cbf5",
   "metadata": {},
   "outputs": [
    {
     "name": "stdout",
     "output_type": "stream",
     "text": [
      "Il y a 2 vendeurs qui ont un prénom avec strictement moins de 4 lettres.\n"
     ]
    }
   ],
   "source": [
    "test = ventes_commerciaux.keys()\n",
    "count = 0\n",
    "for i in (list(test)):\n",
    "    if len(i) < 4 :\n",
    "        count += 1\n",
    "print(\"Il y a\",count,\"vendeurs qui ont un prénom avec strictement moins de 4 lettres.\")"
   ]
  },
  {
   "cell_type": "markdown",
   "id": "dc5f1ce4",
   "metadata": {},
   "source": [
    "7 – Afficher le prénom des vendeurs qui ont un nombre de ventes pair  ( multiple de 2 )\n"
   ]
  },
  {
   "cell_type": "code",
   "execution_count": 75,
   "id": "079cb307",
   "metadata": {},
   "outputs": [
    {
     "name": "stdout",
     "output_type": "stream",
     "text": [
      "Marie a un nombre de vente pair\n",
      "Samuel a un nombre de vente pair\n",
      "Mae a un nombre de vente pair\n",
      "Julie a un nombre de vente pair\n",
      "Zoe a un nombre de vente pair\n",
      "Gael a un nombre de vente pair\n",
      "Samia a un nombre de vente pair\n",
      "Omar a un nombre de vente pair\n"
     ]
    }
   ],
   "source": [
    "value = ventes_commerciaux.values()\n",
    "\n",
    "for i in range (len(value)):\n",
    "    if list(value)[i] % 2 :\n",
    "        print(list(test)[i], \"a un nombre de vente pair\")"
   ]
  }
 ],
 "metadata": {
  "kernelspec": {
   "display_name": "Python 3 (ipykernel)",
   "language": "python",
   "name": "python3"
  },
  "language_info": {
   "codemirror_mode": {
    "name": "ipython",
    "version": 3
   },
   "file_extension": ".py",
   "mimetype": "text/x-python",
   "name": "python",
   "nbconvert_exporter": "python",
   "pygments_lexer": "ipython3",
   "version": "3.9.12"
  }
 },
 "nbformat": 4,
 "nbformat_minor": 5
}
