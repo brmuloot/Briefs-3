{
 "cells": [
  {
   "cell_type": "code",
   "execution_count": 53,
   "id": "4f68e7e1",
   "metadata": {
    "scrolled": true
   },
   "outputs": [
    {
     "name": "stderr",
     "output_type": "stream",
     "text": [
      "C:\\Users\\utilisateur\\AppData\\Local\\Temp\\ipykernel_14980\\653863430.py:12: SettingWithCopyWarning: \n",
      "A value is trying to be set on a copy of a slice from a DataFrame\n",
      "\n",
      "See the caveats in the documentation: https://pandas.pydata.org/pandas-docs/stable/user_guide/indexing.html#returning-a-view-versus-a-copy\n",
      "  data.estPARIS[i] = 1\n",
      "C:\\Users\\utilisateur\\AppData\\Local\\Temp\\ipykernel_14980\\653863430.py:13: SettingWithCopyWarning: \n",
      "A value is trying to be set on a copy of a slice from a DataFrame\n",
      "\n",
      "See the caveats in the documentation: https://pandas.pydata.org/pandas-docs/stable/user_guide/indexing.html#returning-a-view-versus-a-copy\n",
      "  data.estBERLIN[i] = 0\n",
      "C:\\Users\\utilisateur\\AppData\\Local\\Temp\\ipykernel_14980\\653863430.py:15: SettingWithCopyWarning: \n",
      "A value is trying to be set on a copy of a slice from a DataFrame\n",
      "\n",
      "See the caveats in the documentation: https://pandas.pydata.org/pandas-docs/stable/user_guide/indexing.html#returning-a-view-versus-a-copy\n",
      "  data.estPARIS[i] = 0\n",
      "C:\\Users\\utilisateur\\AppData\\Local\\Temp\\ipykernel_14980\\653863430.py:16: SettingWithCopyWarning: \n",
      "A value is trying to be set on a copy of a slice from a DataFrame\n",
      "\n",
      "See the caveats in the documentation: https://pandas.pydata.org/pandas-docs/stable/user_guide/indexing.html#returning-a-view-versus-a-copy\n",
      "  data.estBERLIN[i] = 1\n",
      "C:\\Users\\utilisateur\\AppData\\Local\\Temp\\ipykernel_14980\\653863430.py:18: SettingWithCopyWarning: \n",
      "A value is trying to be set on a copy of a slice from a DataFrame\n",
      "\n",
      "See the caveats in the documentation: https://pandas.pydata.org/pandas-docs/stable/user_guide/indexing.html#returning-a-view-versus-a-copy\n",
      "  data.estPARIS[i] = 0\n",
      "C:\\Users\\utilisateur\\AppData\\Local\\Temp\\ipykernel_14980\\653863430.py:19: SettingWithCopyWarning: \n",
      "A value is trying to be set on a copy of a slice from a DataFrame\n",
      "\n",
      "See the caveats in the documentation: https://pandas.pydata.org/pandas-docs/stable/user_guide/indexing.html#returning-a-view-versus-a-copy\n",
      "  data.estBERLIN[i] = 0\n"
     ]
    },
    {
     "name": "stdout",
     "output_type": "stream",
     "text": [
      "   ville  annee     temps  secondes  estPARIS  estBERLIN\n",
      "0  PARIS   2011  02:06:29      7589       1.0        0.0\n",
      "1  PARIS   2010  02:06:41      7601       1.0        0.0\n",
      "2  PARIS   2009  02:05:47      7547       1.0        0.0\n"
     ]
    }
   ],
   "source": [
    "import pandas as pd\n",
    "import numpy as np\n",
    "\n",
    "data = pd.read_csv(r\"C:\\Users\\utilisateur\\Documents\\brief_3\\Challenge_Numpy\\marathon.txt\", sep='\\t', header=None)\n",
    "\n",
    "#on utilise pd.DataFrame() afin de renommer les colonnes\n",
    "data = pd.DataFrame({\"ville\":data[0], \"annee\":data[1], \"temps\":data[2], \"secondes\":data[3]})\n",
    "#on rajoute 2 colonne 'estPARIS' et 'estBERLIN' avec des valeurs null\n",
    "data['estPARIS'] = np.nan\n",
    "data['estBERLIN'] = np.nan\n",
    "\n",
    "#on utilise une boucle afin d'associer 1 quand la ville et paris ou berlin et 0 sinon\n",
    "#dans chacune des colonnes respectifs\n",
    "for i in range(len(data.ville)):\n",
    "    if data.ville[i] == \"PARIS\":\n",
    "        data.estPARIS[i] = 1\n",
    "        data.estBERLIN[i] = 0\n",
    "    elif data.ville[i] == \"BERLIN\":\n",
    "        data.estPARIS[i] = 0\n",
    "        data.estBERLIN[i] = 1\n",
    "    else:\n",
    "        data.estPARIS[i] = 0\n",
    "        data.estBERLIN[i] = 0\n",
    "        \n",
    "print(data.head(n=3))"
   ]
  },
  {
   "cell_type": "code",
   "execution_count": 82,
   "id": "272bcd7b",
   "metadata": {},
   "outputs": [
    {
     "name": "stdout",
     "output_type": "stream",
     "text": [
      "<class 'numpy.ndarray'>\n",
      "On trouve que a0 vaut [3.98807104] que a1 vaut [-13.47591572] et que a2 vaut [-23.91576442]\n"
     ]
    }
   ],
   "source": [
    "X = data[[\"annee\",\"estPARIS\", \"estBERLIN\"]].to_numpy()\n",
    "X_transpose = X.T\n",
    "Y = data[[\"secondes\"]].to_numpy()\n",
    "print(type(X))\n",
    "# On fait d'aborde X * X_transposé\n",
    "XX_t=np.dot(X_transpose,X)\n",
    "\n",
    "#ensuite on cherche l'inverse du résultat précédent\n",
    "XX_t_inverse = np.linalg.inv(XX_t)\n",
    "\n",
    "#on multiplie l'inverse par la transposer de X\n",
    "XX_t_inverse_X_t = np.dot(XX_t_inverse,X_transpose)\n",
    "\n",
    "#Et enfin on multiplie par Y\n",
    "XX_t_inverse_X_t_Y = np.dot(XX_t_inverse_X_t,Y)\n",
    "\n",
    "print(\"On trouve que a0 vaut\",XX_t_inverse_X_t_Y[0] ,\"que a1 vaut\",XX_t_inverse_X_t_Y[1],\"et que a2 vaut\",XX_t_inverse_X_t_Y[2])\n"
   ]
  },
  {
   "cell_type": "code",
   "execution_count": 80,
   "id": "ea278e02",
   "metadata": {},
   "outputs": [
    {
     "name": "stdout",
     "output_type": "stream",
     "text": [
      "On trouve que a0 vaut [[3.98807104]] que a1 vaut [[-13.47591572]] et que a2 vaut [[-23.91576442]]\n"
     ]
    }
   ],
   "source": [
    "X_transpose = np.matrix([data.annee,data.estPARIS,data.estBERLIN])\n",
    "#On applique la transpose pour obtenir X et Y car en utilisant np.matrix on obtient\n",
    "#la matrice transpose directement(3 lignes or on veut 3 colonnes et 1 ligne au lieu de 1 colonne)\n",
    "X = X_transpose.T\n",
    "Y = np.matrix([data.secondes]).T\n",
    "#On fait d'aborde X * X_transposé\n",
    "XX_t=np.dot(X_transpose,X)\n",
    "#ensuite on cherche l'inverse du résultat précédent\n",
    "XX_t_inverse = np.linalg.inv(XX_t)\n",
    "#on multiplie l'inverse par la transposer de X\n",
    "XX_t_inverse_X_t = np.dot(XX_t_inverse,X_transpose)\n",
    "\n",
    "#Et enfin on multiplie par Y\n",
    "XX_t_inverse_X_t_Y = np.dot(XX_t_inverse_X_t,Y)\n",
    "\n",
    "print(\"On trouve que a0 vaut\",XX_t_inverse_X_t_Y[0] ,\"que a1 vaut\",XX_t_inverse_X_t_Y[1],\"et que a2 vaut\",XX_t_inverse_X_t_Y[2])\n"
   ]
  },
  {
   "cell_type": "code",
   "execution_count": 78,
   "id": "8ee53be6",
   "metadata": {
    "scrolled": true
   },
   "outputs": [
    {
     "data": {
      "text/plain": [
       "matrix([[  3.98807104],\n",
       "        [-13.47591572],\n",
       "        [-23.91576442]])"
      ]
     },
     "execution_count": 78,
     "metadata": {},
     "output_type": "execute_result"
    }
   ],
   "source": [
    "((X.T)*X).I*X.T*Y"
   ]
  }
 ],
 "metadata": {
  "kernelspec": {
   "display_name": "Python 3 (ipykernel)",
   "language": "python",
   "name": "python3"
  },
  "language_info": {
   "codemirror_mode": {
    "name": "ipython",
    "version": 3
   },
   "file_extension": ".py",
   "mimetype": "text/x-python",
   "name": "python",
   "nbconvert_exporter": "python",
   "pygments_lexer": "ipython3",
   "version": "3.9.12"
  }
 },
 "nbformat": 4,
 "nbformat_minor": 5
}
