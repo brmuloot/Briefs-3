{
 "cells": [
  {
   "cell_type": "code",
   "execution_count": 1,
   "id": "d4233ae5",
   "metadata": {},
   "outputs": [
    {
     "name": "stdout",
     "output_type": "stream",
     "text": [
      "5.0\n"
     ]
    }
   ],
   "source": [
    "def moyenne(x):\n",
    "    moyenne = sum(x) / len(x)\n",
    "    return moyenne\n",
    "#sum() calcul la somme de la variable x, len() calcul la taille de la variable x\n",
    "x = [1,7,3,5,4,10]\n",
    "print(moyenne(x))"
   ]
  },
  {
   "cell_type": "code",
   "execution_count": 2,
   "id": "90361f0e",
   "metadata": {},
   "outputs": [
    {
     "name": "stdout",
     "output_type": "stream",
     "text": [
      "8.333333333333334\n"
     ]
    }
   ],
   "source": [
    "def variance(x):\n",
    "    carre = 0\n",
    "    for i in range (len(x)):\n",
    "        carre += (moyenne(x) - x[i])**2\n",
    "    variance = carre / len(x)\n",
    "    return variance\n",
    "\n",
    "print(variance(x))"
   ]
  },
  {
   "cell_type": "code",
   "execution_count": 3,
   "id": "32cc095c",
   "metadata": {},
   "outputs": [
    {
     "name": "stdout",
     "output_type": "stream",
     "text": [
      "2.886751345948129\n"
     ]
    }
   ],
   "source": [
    "def sd(x):\n",
    "    sd = variance(x) ** 0.5\n",
    "    return sd\n",
    "\n",
    "print(sd(x))"
   ]
  },
  {
   "cell_type": "code",
   "execution_count": 4,
   "id": "f99bad55",
   "metadata": {},
   "outputs": [
    {
     "name": "stdout",
     "output_type": "stream",
     "text": [
      "4.5\n"
     ]
    }
   ],
   "source": [
    "def mediane(x):\n",
    "    moitie = len(x) // 2 # calcul la division entière (arondi au supérieur)\n",
    "    x.sort()\n",
    "    if not len(x) % 2:  # cette ligne nous dis que si la taille de x n'est pas divisible par 2 alors\n",
    "        return (x[moitie - 1]+x[moitie]) /2 # on retourne la moyenne entre la valeur de la moitie et celle d'en dessous\n",
    "    return x[moitie]\n",
    "\n",
    "print(mediane(x))"
   ]
  },
  {
   "cell_type": "code",
   "execution_count": null,
   "id": "78cb49ed",
   "metadata": {},
   "outputs": [],
   "source": []
  }
 ],
 "metadata": {
  "kernelspec": {
   "display_name": "Python 3 (ipykernel)",
   "language": "python",
   "name": "python3"
  },
  "language_info": {
   "codemirror_mode": {
    "name": "ipython",
    "version": 3
   },
   "file_extension": ".py",
   "mimetype": "text/x-python",
   "name": "python",
   "nbconvert_exporter": "python",
   "pygments_lexer": "ipython3",
   "version": "3.9.12"
  }
 },
 "nbformat": 4,
 "nbformat_minor": 5
}
