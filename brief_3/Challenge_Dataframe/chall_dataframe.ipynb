{
 "cells": [
  {
   "cell_type": "markdown",
   "id": "234baabd",
   "metadata": {},
   "source": [
    "1 – Lire le fichier googleplaystore_1.csv et stocker les valeurs dans un dataframe avec pour nom  df_google_ap_1\n"
   ]
  },
  {
   "cell_type": "code",
   "execution_count": 2,
   "id": "02ed1eb5",
   "metadata": {},
   "outputs": [
    {
     "name": "stdout",
     "output_type": "stream",
     "text": [
      "                                              App        Category Rating  \\\n",
      "0  Photo Editor & Candy Camera & Grid & ScrapBook  ART_AND_DESIGN    4.1   \n",
      "1                             Coloring book moana  ART_AND_DESIGN    3.9   \n",
      "2                           Sketch - Draw & Paint  ART_AND_DESIGN    4.5   \n",
      "3           Pixel Draw - Number Art Coloring Book  ART_AND_DESIGN    4.3   \n",
      "4                      Paper flowers instructions  ART_AND_DESIGN    4.4   \n",
      "\n",
      "    Reviews  Size     Installs  Type Price Content Rating        Genres  \\\n",
      "0     159.0   19M      10,000+  Free     0       Everyone  Art & Design   \n",
      "1     967.0   14M     500,000+  Free     0       Everyone  Art & Design   \n",
      "2  215644.0   25M  50,000,000+  Free     0           Teen  Art & Design   \n",
      "3     967.0  2.8M     100,000+  Free     0       Everyone  Art & Design   \n",
      "4     167.0  5.6M      50,000+  Free     0       Everyone  Art & Design   \n",
      "\n",
      "      Last Updated         Current Ver   Android Ver  \n",
      "0  January 7, 2018               1.0.0  4.0.3 and up  \n",
      "1              NaN                 NaN           NaN  \n",
      "2     June 8, 2018  Varies with device    4.2 and up  \n",
      "3              NaN                 NaN           NaN  \n",
      "4   March 26, 2017                 1.0    2.3 and up  \n"
     ]
    }
   ],
   "source": [
    "import pandas as pd\n",
    "\n",
    "df_google_ap_1 = pd.read_csv(r\"C:\\Users\\utilisateur\\Documents\\brief_3\\Challenge_Dataframe\\googleplaystore_1.csv\", sep=\";\",on_bad_lines='skip')\n",
    "\n",
    "# l'option 'sep' permet de dire que ce qui sépare les variables et dans ce cas des ';'\n",
    "# l'option 'on_bad_lines' permet d'éviter des erreurs et de skip les lignes qui pose problème\n",
    "\n",
    "print(df_google_ap_1.head())"
   ]
  },
  {
   "cell_type": "markdown",
   "id": "c49d33c0",
   "metadata": {},
   "source": [
    "2 – Quels sont les noms, les catégories, et les genres des applications les plus installées sur Google Play ? ( plus d’ 1milliards de fois ) "
   ]
  },
  {
   "cell_type": "code",
   "execution_count": 3,
   "id": "95b53da3",
   "metadata": {
    "scrolled": true
   },
   "outputs": [
    {
     "name": "stdout",
     "output_type": "stream",
     "text": [
      "1,000,000+            102\n",
      "100,000+               92\n",
      "10,000,000+            70\n",
      "5,000,000+             52\n",
      "500,000+               46\n",
      "10,000+                33\n",
      "100,000,000+           28\n",
      "50,000+                26\n",
      "1,000,000,000+         14\n",
      "500,000,000+           12\n",
      "50,000,000+            10\n",
      "5,000+                  6\n",
      "Varies with device      3\n",
      "1,000+                  2\n",
      "100+                    2\n",
      "3.6M                    1\n",
      "50+                     1\n",
      "Name: Installs, dtype: int64\n",
      "<class 'str'>\n",
      "                                          App             Category  \\\n",
      "139                         Google Play Books  BOOKS_AND_REFERENCE   \n",
      "313  Messenger – Text and Video Chat for Free        COMMUNICATION   \n",
      "314                        WhatsApp Messenger        COMMUNICATION   \n",
      "316              Google Chrome: Fast & Secure        COMMUNICATION   \n",
      "318                                     Gmail        COMMUNICATION   \n",
      "\n",
      "                Genres  \n",
      "139  Books & Reference  \n",
      "313      Communication  \n",
      "314      Communication  \n",
      "316      Communication  \n",
      "318      Communication  \n",
      "                                          App             Category  \\\n",
      "139                         Google Play Books  BOOKS_AND_REFERENCE   \n",
      "313  Messenger – Text and Video Chat for Free        COMMUNICATION   \n",
      "314                        WhatsApp Messenger        COMMUNICATION   \n",
      "316              Google Chrome: Fast & Secure        COMMUNICATION   \n",
      "318                                     Gmail        COMMUNICATION   \n",
      "\n",
      "                Genres  \n",
      "139  Books & Reference  \n",
      "313      Communication  \n",
      "314      Communication  \n",
      "316      Communication  \n",
      "318      Communication  \n"
     ]
    }
   ],
   "source": [
    "print(df_google_ap_1.Installs.value_counts())\n",
    "print(type(\"1,000,000,000+\"))\n",
    "\n",
    "# Comme nous avons des strings à la place d'integer pour représenter les installations\n",
    "# On va utiliser un filtre qui va rechercher uniquement les cas où nous aurons\n",
    "# \"1,000,000,000+\" puisque nous voulons sélectionné les applis qui ont plus d'1\n",
    "# milliards de téléchargement\n",
    "res = df_google_ap_1[(df_google_ap_1.Installs == \"1,000,000,000+\")]\n",
    "\n",
    "# Pour afficher seulement les lignes qui nous intéresse on va utiliser loc qui\n",
    "# permet de selectionner plusieurs colonnes en même temps, iloc fonctionne de \n",
    "# la même manière mais il nous faut les indices des colonnes\n",
    "\n",
    "print(res.loc[:,[\"App\",\"Category\",\"Genres\"]].head())\n",
    "print(res.iloc[:,[0,1,9]].head())"
   ]
  },
  {
   "cell_type": "markdown",
   "id": "7a1a6332",
   "metadata": {},
   "source": [
    "3 – Quel est le plus grand nombre de Reviews? ( avis )? Quel est le nom et la note de l’application concernée? "
   ]
  },
  {
   "cell_type": "code",
   "execution_count": 4,
   "id": "52752b10",
   "metadata": {},
   "outputs": [
    {
     "name": "stdout",
     "output_type": "stream",
     "text": [
      "Le plus grand nombre de Reviews (avis) est de 69119316.0\n",
      "\n",
      "Il s'agit de l'application : 314    WhatsApp Messenger\n",
      "Name: App, dtype: object qui a une note de : 314    4.4\n",
      "Name: Rating, dtype: object\n"
     ]
    }
   ],
   "source": [
    "print(\"Le plus grand nombre de Reviews (avis) est de\", max(df_google_ap_1.iloc[:,3]))\n",
    "\n",
    "# On trouve l'index du max d'une colonne grâce à idxmax(), il nous suffit de la\n",
    "# séléctionner ensuite grâce iloc\n",
    "\n",
    "index = df_google_ap_1[['Reviews']].idxmax()\n",
    "print(\"\\nIl s'agit de l'application :\",df_google_ap_1.iloc[index,0],\"qui a une note de :\",df_google_ap_1.iloc[index,2])"
   ]
  },
  {
   "cell_type": "markdown",
   "id": "133e9fdb",
   "metadata": {},
   "source": [
    "4 –Afficher les colonnes 2,5,6 et les lignes 3 à 16 du Dataframe "
   ]
  },
  {
   "cell_type": "code",
   "execution_count": 5,
   "id": "743a1a6a",
   "metadata": {},
   "outputs": [
    {
     "name": "stdout",
     "output_type": "stream",
     "text": [
      "   Rating     Installs  Type\n",
      "3     4.3     100,000+  Free\n",
      "4     4.4      50,000+  Free\n",
      "5     3.8      50,000+  Free\n",
      "6     4.1   1,000,000+  Free\n",
      "7     4.4   1,000,000+  Free\n",
      "8     4.7      10,000+  Free\n",
      "9     4.4   1,000,000+  Free\n",
      "10    4.4   1,000,000+  Free\n",
      "11    4.2  10,000,000+  Free\n",
      "12    4.6     100,000+  Free\n",
      "13    4.4     100,000+  Free\n",
      "14    3.2       5,000+  Free\n",
      "15    4.7     500,000+  Free\n",
      "16    4.5      10,000+  Free\n"
     ]
    }
   ],
   "source": [
    "# Pour selectionner plusieurs lignes et colonnes on utilise .iloc qui permet\n",
    "# de selectionner des lignes et des colonnes à partir d'un index\n",
    "\n",
    "print(df_google_ap_1.iloc[3:17,[2,5,6]])"
   ]
  },
  {
   "cell_type": "markdown",
   "id": "6d338a67",
   "metadata": {},
   "source": [
    "5 – Combien y –a – t –il  d’applications ouvertes aux personnes de tous âges? "
   ]
  },
  {
   "cell_type": "code",
   "execution_count": 6,
   "id": "07cf6979",
   "metadata": {},
   "outputs": [
    {
     "name": "stdout",
     "output_type": "stream",
     "text": [
      "Il y a 391 applications ouvertes aux personnes de tous âge\n"
     ]
    }
   ],
   "source": [
    "# On renomme Content Rating en Content_rating pour que ce soit plus pratique par la suite\n",
    "df_google_ap_1 = df_google_ap_1.rename(columns = {'Content Rating': 'Content_Rating'})\n",
    "\n",
    "# On va faire un filtre afin d'obtenir toute les données qui ont 'Everyone' dans\n",
    "# la colonne Content_Rating\n",
    "res2 = df_google_ap_1[(df_google_ap_1.Content_Rating == \"Everyone\")]\n",
    "\n",
    "#On renvoie la taille de la dataframe précédement obtenue pour connaître le nombre\n",
    "print(\"Il y a\",len(res2),\"applications ouvertes aux personnes de tous âge\")\n",
    "\n"
   ]
  },
  {
   "cell_type": "markdown",
   "id": "7c2185b3",
   "metadata": {},
   "source": [
    "6 – Dans quelle catégorie y a – t –il  le plus d’applications ? "
   ]
  },
  {
   "cell_type": "code",
   "execution_count": 7,
   "id": "3afdaeee",
   "metadata": {},
   "outputs": [
    {
     "name": "stdout",
     "output_type": "stream",
     "text": [
      "COMMUNICATION                               132\n",
      "BUSINESS                                    106\n",
      "DATING                                       52\n",
      "ART_AND_DESIGN                               47\n",
      "BOOKS_AND_REFERENCE                          47\n",
      "AUTO_AND_VEHICLES                            43\n",
      "BEAUTY                                       35\n",
      "COMICS                                       34\n",
      " find information about Swedish vehicles      1\n",
      " Private & Adblock🐬                           1\n",
      " SMS spam blocking & Dialer                   1\n",
      " Gmail and Outlook Mail                       1\n",
      "Name: Category, dtype: int64\n",
      "On voit que la catégorie 'Communication' contient le plus d'application.\n"
     ]
    }
   ],
   "source": [
    "# On selectionne la colonne catégorie afin de lui applique la fonction value_counts()\n",
    "# qui renvoie une série contenant le nombre de valeurs uniques\n",
    "\n",
    "categorie = df_google_ap_1.iloc[:,1]\n",
    "print(categorie.value_counts())\n",
    "\n",
    "print(\"On voit que la catégorie 'Communication' contient le plus d'application.\")"
   ]
  },
  {
   "cell_type": "markdown",
   "id": "8fce206c",
   "metadata": {},
   "source": [
    "7 – Quelle est l’application vendue la plus chère?  ( celle à 7,99 dollars)"
   ]
  },
  {
   "cell_type": "code",
   "execution_count": 10,
   "id": "76325504",
   "metadata": {},
   "outputs": [
    {
     "name": "stdout",
     "output_type": "stream",
     "text": [
      "0        487\n",
      "Free       4\n",
      "$4.99      4\n",
      "$3.99      2\n",
      "$6.99      1\n",
      "$1.49      1\n",
      "$7.99      1\n",
      "Name: Price, dtype: int64\n",
      "L'application qui coûte le plus cher est : 451    AMBW Dating App: Asian Men Black Women Interra...\n",
      "Name: App, dtype: object\n"
     ]
    }
   ],
   "source": [
    "print(df_google_ap_1.Price.value_counts())\n",
    "\n",
    "# On voit que l'application la plus chère est bien à 7.99$, il ne nous reste\n",
    "# plus qu'à faire un filtre pour la selectionner\n",
    "\n",
    "res3 = df_google_ap_1[(df_google_ap_1.Price == \"$7.99\")]\n",
    "print(\"L'application qui coûte le plus cher est :\", res3.iloc[:,0])"
   ]
  }
 ],
 "metadata": {
  "kernelspec": {
   "display_name": "Python 3 (ipykernel)",
   "language": "python",
   "name": "python3"
  },
  "language_info": {
   "codemirror_mode": {
    "name": "ipython",
    "version": 3
   },
   "file_extension": ".py",
   "mimetype": "text/x-python",
   "name": "python",
   "nbconvert_exporter": "python",
   "pygments_lexer": "ipython3",
   "version": "3.9.12"
  }
 },
 "nbformat": 4,
 "nbformat_minor": 5
}
