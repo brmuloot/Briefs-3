{
 "cells": [
  {
   "cell_type": "code",
   "execution_count": 2,
   "id": "ff26dedc",
   "metadata": {},
   "outputs": [
    {
     "data": {
      "text/plain": [
       "[125000,\n",
       " 134913,\n",
       " 144826,\n",
       " 154739,\n",
       " 164652,\n",
       " 174565,\n",
       " 184478,\n",
       " 194391,\n",
       " 204304,\n",
       " 214217,\n",
       " 224130,\n",
       " 234043,\n",
       " 243956,\n",
       " 253869,\n",
       " 263782,\n",
       " 273695,\n",
       " 283608,\n",
       " 293521,\n",
       " 303434,\n",
       " 313347,\n",
       " 323260,\n",
       " 333173,\n",
       " 343086,\n",
       " 352999,\n",
       " 362912,\n",
       " 372825,\n",
       " 382738,\n",
       " 392651,\n",
       " 402564,\n",
       " 412477,\n",
       " 422390,\n",
       " 432303,\n",
       " 442216,\n",
       " 452129,\n",
       " 462042,\n",
       " 471955,\n",
       " 481868,\n",
       " 491781,\n",
       " 501694,\n",
       " 511607,\n",
       " 521520,\n",
       " 531433,\n",
       " 541346,\n",
       " 551259,\n",
       " 561172,\n",
       " 571085,\n",
       " 580998,\n",
       " 590911,\n",
       " 600824,\n",
       " 610737,\n",
       " 620650,\n",
       " 630563,\n",
       " 640476,\n",
       " 650389,\n",
       " 660302,\n",
       " 670215,\n",
       " 680128,\n",
       " 690041,\n",
       " 699954]"
      ]
     },
     "execution_count": 2,
     "metadata": {},
     "output_type": "execute_result"
    }
   ],
   "source": [
    "prix_de_58_maisons = list(range(125000,700000,(700000 - 125000)//58))\n",
    "prix_de_58_maisons"
   ]
  },
  {
   "cell_type": "code",
   "execution_count": 17,
   "id": "5baf2b62",
   "metadata": {},
   "outputs": [
    {
     "name": "stdout",
     "output_type": "stream",
     "text": [
      "Il y a 40 maisons qui ont un prix supérieur ou égal à 300 000 euros.\n"
     ]
    }
   ],
   "source": [
    "compteur = 0\n",
    "for i in range(len(prix_de_58_maisons)):\n",
    "    if prix_de_58_maisons[i] >= 300000:\n",
    "        compteur += 1\n",
    "\n",
    "print(\"Il y a\", compteur,\"maisons qui ont un prix supérieur ou égal à 300 000 euros.\")"
   ]
  },
  {
   "cell_type": "code",
   "execution_count": 20,
   "id": "00201b25",
   "metadata": {},
   "outputs": [
    {
     "name": "stdout",
     "output_type": "stream",
     "text": [
      "Il y a 15 maisons qui ont un prix compris entre 250 000 et 400 000 euros\n"
     ]
    }
   ],
   "source": [
    "compteur = 0\n",
    "for i in range(len(prix_de_58_maisons)):\n",
    "    if prix_de_58_maisons[i] >= 250000 and prix_de_58_maisons[i] <= 400000:\n",
    "        compteur += 1\n",
    "\n",
    "print(\"Il y a\", compteur,\"maisons qui ont un prix compris entre 250 000 et 400 000 euros\")"
   ]
  },
  {
   "cell_type": "code",
   "execution_count": 21,
   "id": "c51f7f40",
   "metadata": {},
   "outputs": [
    {
     "name": "stdout",
     "output_type": "stream",
     "text": [
      "Il y a 48 maisons qui n'ont pas un prix supérieur à 600 000 euros\n"
     ]
    }
   ],
   "source": [
    "compteur = 0\n",
    "for i in range(len(prix_de_58_maisons)):\n",
    "    if prix_de_58_maisons[i] < 600000:\n",
    "        compteur += 1\n",
    "\n",
    "print(\"Il y a\", compteur,\"maisons qui n'ont pas un prix supérieur à 600 000 euros\")"
   ]
  },
  {
   "cell_type": "code",
   "execution_count": 23,
   "id": "02a15ba1",
   "metadata": {},
   "outputs": [
    {
     "name": "stdout",
     "output_type": "stream",
     "text": [
      "Il y a 8 maisons qui ont un prix inférieur à 150 000 euros ou supérieur à 650 000 euros.\n"
     ]
    }
   ],
   "source": [
    "compteur = 0\n",
    "\n",
    "for i in range(len(prix_de_58_maisons)):\n",
    "    if prix_de_58_maisons[i] < 150000 or prix_de_58_maisons[i] > 650000:\n",
    "        compteur += 1\n",
    "print(\"Il y a\", compteur,\"maisons qui ont un prix inférieur à 150 000 euros ou supérieur à 650 000 euros.\")"
   ]
  },
  {
   "cell_type": "code",
   "execution_count": null,
   "id": "a6f7f6e9",
   "metadata": {},
   "outputs": [],
   "source": []
  }
 ],
 "metadata": {
  "kernelspec": {
   "display_name": "Python 3 (ipykernel)",
   "language": "python",
   "name": "python3"
  },
  "language_info": {
   "codemirror_mode": {
    "name": "ipython",
    "version": 3
   },
   "file_extension": ".py",
   "mimetype": "text/x-python",
   "name": "python",
   "nbconvert_exporter": "python",
   "pygments_lexer": "ipython3",
   "version": "3.9.12"
  }
 },
 "nbformat": 4,
 "nbformat_minor": 5
}
