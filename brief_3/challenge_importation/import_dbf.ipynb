{
 "cells": [
  {
   "cell_type": "code",
   "execution_count": 4,
   "id": "546527ab",
   "metadata": {},
   "outputs": [
    {
     "name": "stdout",
     "output_type": "stream",
     "text": [
      "  ANAISH DEPNAISH INDNATH ETAMATH ANAISF DEPNAISF INDNATF ETAMATF  AMAR MMAR  \\\n",
      "0   1982       75       1       1   1984       99       2       1  2012   01   \n",
      "1   1956       69       2       4   1969       99       2       4  2012   01   \n",
      "2   1982       99       2       1   1992       99       1       1  2012   01   \n",
      "3   1985       99       2       1   1987       84       1       1  2012   01   \n",
      "4   1968       99       2       1   1963       99       2       1  2012   01   \n",
      "\n",
      "  JSEMAINE DEPMAR DEPDOM TUDOM TUCOM NBENFCOM  \n",
      "0        1     29     99     9   NaN        N  \n",
      "1        3     75     99     9   NaN        N  \n",
      "2        5     34     99     9   NaN        N  \n",
      "3        4     13     99     9   NaN        N  \n",
      "4        6     26     99     9   NaN        N  \n"
     ]
    }
   ],
   "source": [
    "import pandas as pd\n",
    "from simpledbf import Dbf5\n",
    "\n",
    "dbf = Dbf5(r'C:\\Users\\utilisateur\\Downloads\\Challenge_Lecture_fichiers\\mar2012.dbf')\n",
    "data = dbf.to_dataframe()\n",
    "\n",
    "print(data.head())"
   ]
  }
 ],
 "metadata": {
  "kernelspec": {
   "display_name": "Python 3 (ipykernel)",
   "language": "python",
   "name": "python3"
  },
  "language_info": {
   "codemirror_mode": {
    "name": "ipython",
    "version": 3
   },
   "file_extension": ".py",
   "mimetype": "text/x-python",
   "name": "python",
   "nbconvert_exporter": "python",
   "pygments_lexer": "ipython3",
   "version": "3.9.12"
  }
 },
 "nbformat": 4,
 "nbformat_minor": 5
}
